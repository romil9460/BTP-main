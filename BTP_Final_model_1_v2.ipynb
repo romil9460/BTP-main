{
  "nbformat": 4,
  "nbformat_minor": 0,
  "metadata": {
    "colab": {
      "name": "BTP_Final_model_1",
      "provenance": [],
      "mount_file_id": "1BE7Pf9phr7c6uT5F8eS5O58z6_cCyAWc",
      "authorship_tag": "ABX9TyPm9ujcPQld4VioK3kCf+IP"
    },
    "kernelspec": {
      "name": "python3",
      "display_name": "Python 3"
    },
    "accelerator": "GPU"
  },
  "cells": [
    {
      "cell_type": "code",
      "metadata": {
        "id": "0eGJCKeksosL",
        "colab_type": "code",
        "colab": {
          "base_uri": "https://localhost:8080/",
          "height": 124
        },
        "outputId": "e9c6d86b-64ea-45b3-fb85-0223e3948ee8"
      },
      "source": [
        "from google.colab import drive\n",
        "drive.mount('/gdrive')"
      ],
      "execution_count": 1,
      "outputs": [
        {
          "output_type": "stream",
          "text": [
            "Go to this URL in a browser: https://accounts.google.com/o/oauth2/auth?client_id=947318989803-6bn6qk8qdgf4n4g3pfee6491hc0brc4i.apps.googleusercontent.com&redirect_uri=urn%3aietf%3awg%3aoauth%3a2.0%3aoob&response_type=code&scope=email%20https%3a%2f%2fwww.googleapis.com%2fauth%2fdocs.test%20https%3a%2f%2fwww.googleapis.com%2fauth%2fdrive%20https%3a%2f%2fwww.googleapis.com%2fauth%2fdrive.photos.readonly%20https%3a%2f%2fwww.googleapis.com%2fauth%2fpeopleapi.readonly\n",
            "\n",
            "Enter your authorization code:\n",
            "··········\n",
            "Mounted at /gdrive\n"
          ],
          "name": "stdout"
        }
      ]
    },
    {
      "cell_type": "code",
      "metadata": {
        "id": "cPeniZg1PToG",
        "colab_type": "code",
        "colab": {}
      },
      "source": [
        "import os\n",
        "import zipfile\n",
        "\n",
        "local_zip = '/content/drive/My Drive/NEU-DET_new.zip'\n",
        "zip_ref = zipfile.ZipFile(local_zip, 'r')\n",
        "zip_ref.extractall('./')\n",
        "zip_ref.close()"
      ],
      "execution_count": 7,
      "outputs": []
    },
    {
      "cell_type": "code",
      "metadata": {
        "id": "BbS7LSJNRomY",
        "colab_type": "code",
        "colab": {}
      },
      "source": [
        "train_crazing_dir = os.path.join('/content/NEU-DET/train/images/crazing')\n",
        "train_inclusion_dir = os.path.join('/content/NEU-DET/train/images/inclusion/')\n",
        "train_patches_dir = os.path.join('/content/NEU-DET/train/images/patches/')\n",
        "train_pitted_surface_dir = os.path.join('/content/NEU-DET/train/images/pitted_surface/')\n",
        "train_rolledin_scale_dir = os.path.join('/content/NEU-DET/train/images/rolled-in_scale/')\n",
        "train_scratches_dir = os.path.join('/content/NEU-DET/train/images/scratches/')"
      ],
      "execution_count": 8,
      "outputs": []
    },
    {
      "cell_type": "code",
      "metadata": {
        "id": "65UjXbBRegK-",
        "colab_type": "code",
        "colab": {}
      },
      "source": [
        "train_crazing_names = os.listdir(train_crazing_dir)\n",
        "train_inclusion_names = os.listdir(train_inclusion_dir)\n",
        "train_patches_names = os.listdir(train_patches_dir)\n",
        "train_pitted_surface_names = os.listdir(train_pitted_surface_dir)\n",
        "train_rolledin_scale_names = os.listdir(train_rolledin_scale_dir)\n",
        "train_scratches_names = os.listdir(train_scratches_dir)"
      ],
      "execution_count": 9,
      "outputs": []
    },
    {
      "cell_type": "code",
      "metadata": {
        "id": "O_9eMwYEeMw5",
        "colab_type": "code",
        "colab": {
          "base_uri": "https://localhost:8080/",
          "height": 121
        },
        "outputId": "f9330a1a-7fb3-4be2-ed9f-8a048bcbf746"
      },
      "source": [
        "print('total training crazing images:', len(train_crazing_names))\n",
        "print('total training crazing images:', len(train_inclusion_names))\n",
        "print('total training crazing images:', len(train_patches_names))\n",
        "print('total training crazing images:', len(train_pitted_surface_names))\n",
        "print('total training crazing images:', len(train_rolledin_scale_names))\n",
        "print('total training crazing images:', len(train_scratches_names))"
      ],
      "execution_count": 10,
      "outputs": [
        {
          "output_type": "stream",
          "text": [
            "total training crazing images: 240\n",
            "total training crazing images: 240\n",
            "total training crazing images: 240\n",
            "total training crazing images: 240\n",
            "total training crazing images: 240\n",
            "total training crazing images: 240\n"
          ],
          "name": "stdout"
        }
      ]
    },
    {
      "cell_type": "code",
      "metadata": {
        "id": "B2esQu_0fR87",
        "colab_type": "code",
        "colab": {}
      },
      "source": [
        "import tensorflow as tf"
      ],
      "execution_count": 11,
      "outputs": []
    },
    {
      "cell_type": "code",
      "metadata": {
        "id": "jZOTBIuZg9M-",
        "colab_type": "code",
        "colab": {}
      },
      "source": [
        "model = tf.keras.models.Sequential([\n",
        "                                    # First Convolution\n",
        "                                    tf.keras.layers.Conv2D(32, (3,3), activation='relu', input_shape=(224, 224, 3)),\n",
        "                                    tf.keras.layers.MaxPooling2D(2, 2),\n",
        "                                    # Second Convolution\n",
        "                                    tf.keras.layers.Conv2D(32, (3,3), activation='relu'),\n",
        "                                    tf.keras.layers.MaxPooling2D(2, 2),\n",
        "                                    # Third Convolution\n",
        "                                    tf.keras.layers.Conv2D(32, (3,3), activation='relu'),\n",
        "                                    tf.keras.layers.MaxPooling2D(2, 2),\n",
        "\n",
        "                                    tf.keras.layers.Flatten(),\n",
        "                                    tf.keras.layers.Dense(512, activation='relu'),\n",
        "                                    tf.keras.layers.Dense(512, activation='relu'),\n",
        "                                    tf.keras.layers.Dense(6, activation='softmax'),\n",
        "\n",
        "\n",
        "                            \n",
        "\n",
        "])"
      ],
      "execution_count": 17,
      "outputs": []
    },
    {
      "cell_type": "code",
      "metadata": {
        "id": "xmSka_NbhCqq",
        "colab_type": "code",
        "colab": {
          "base_uri": "https://localhost:8080/",
          "height": 503
        },
        "outputId": "3cabf74b-eeac-48df-a95d-f5ad2dfca669"
      },
      "source": [
        "model.summary()"
      ],
      "execution_count": 18,
      "outputs": [
        {
          "output_type": "stream",
          "text": [
            "Model: \"sequential_1\"\n",
            "_________________________________________________________________\n",
            "Layer (type)                 Output Shape              Param #   \n",
            "=================================================================\n",
            "conv2d_3 (Conv2D)            (None, 222, 222, 32)      896       \n",
            "_________________________________________________________________\n",
            "max_pooling2d_3 (MaxPooling2 (None, 111, 111, 32)      0         \n",
            "_________________________________________________________________\n",
            "conv2d_4 (Conv2D)            (None, 109, 109, 32)      9248      \n",
            "_________________________________________________________________\n",
            "max_pooling2d_4 (MaxPooling2 (None, 54, 54, 32)        0         \n",
            "_________________________________________________________________\n",
            "conv2d_5 (Conv2D)            (None, 52, 52, 32)        9248      \n",
            "_________________________________________________________________\n",
            "max_pooling2d_5 (MaxPooling2 (None, 26, 26, 32)        0         \n",
            "_________________________________________________________________\n",
            "flatten_1 (Flatten)          (None, 21632)             0         \n",
            "_________________________________________________________________\n",
            "dense_3 (Dense)              (None, 512)               11076096  \n",
            "_________________________________________________________________\n",
            "dense_4 (Dense)              (None, 512)               262656    \n",
            "_________________________________________________________________\n",
            "dense_5 (Dense)              (None, 6)                 3078      \n",
            "=================================================================\n",
            "Total params: 11,361,222\n",
            "Trainable params: 11,361,222\n",
            "Non-trainable params: 0\n",
            "_________________________________________________________________\n"
          ],
          "name": "stdout"
        }
      ]
    },
    {
      "cell_type": "code",
      "metadata": {
        "id": "C0flIA6GhFb1",
        "colab_type": "code",
        "colab": {}
      },
      "source": [
        "from tensorflow.keras.optimizers import RMSprop, Adam\n",
        "\n",
        "model.compile(loss='categorical_crossentropy',\n",
        "              optimizer= 'adam',\n",
        "              metrics=['accuracy'])"
      ],
      "execution_count": 19,
      "outputs": []
    },
    {
      "cell_type": "code",
      "metadata": {
        "id": "Dc5KMynShjiV",
        "colab_type": "code",
        "colab": {
          "base_uri": "https://localhost:8080/",
          "height": 35
        },
        "outputId": "0b8a797b-4610-41b4-c874-08ea90ee57a9"
      },
      "source": [
        "from tensorflow.keras.preprocessing.image import ImageDataGenerator\n",
        "\n",
        "# Rescaling images\n",
        "train_datagen = ImageDataGenerator(rescale=1/255)\n",
        "\n",
        "train_generator = train_datagen.flow_from_directory(\n",
        "    directory = '/content/NEU-DET/train/images/',\n",
        "    target_size = (224, 224),\n",
        "    batch_size = 60,\n",
        "    class_mode = 'categorical'\n",
        ")"
      ],
      "execution_count": 20,
      "outputs": [
        {
          "output_type": "stream",
          "text": [
            "Found 1440 images belonging to 6 classes.\n"
          ],
          "name": "stdout"
        }
      ]
    },
    {
      "cell_type": "code",
      "metadata": {
        "id": "bjF8FhBihtyM",
        "colab_type": "code",
        "colab": {
          "base_uri": "https://localhost:8080/",
          "height": 537
        },
        "outputId": "dbc5fa3e-9848-4c99-ea56-31ef29ed078e"
      },
      "source": [
        "history = model.fit(\n",
        "    train_generator,\n",
        "    steps_per_epoch=8,\n",
        "    epochs=15,\n",
        "    verbose=1,\n",
        ")"
      ],
      "execution_count": 22,
      "outputs": [
        {
          "output_type": "stream",
          "text": [
            "Epoch 1/15\n",
            "8/8 [==============================] - 1s 127ms/step - loss: 2.2959 - accuracy: 0.1813\n",
            "Epoch 2/15\n",
            "8/8 [==============================] - 1s 129ms/step - loss: 1.7832 - accuracy: 0.2104\n",
            "Epoch 3/15\n",
            "8/8 [==============================] - 1s 128ms/step - loss: 1.7197 - accuracy: 0.1917\n",
            "Epoch 4/15\n",
            "8/8 [==============================] - 1s 129ms/step - loss: 1.5803 - accuracy: 0.2729\n",
            "Epoch 5/15\n",
            "8/8 [==============================] - 1s 129ms/step - loss: 1.2978 - accuracy: 0.4250\n",
            "Epoch 6/15\n",
            "8/8 [==============================] - 1s 133ms/step - loss: 1.2945 - accuracy: 0.4250\n",
            "Epoch 7/15\n",
            "8/8 [==============================] - 1s 129ms/step - loss: 1.0890 - accuracy: 0.5625\n",
            "Epoch 8/15\n",
            "8/8 [==============================] - 1s 131ms/step - loss: 0.9111 - accuracy: 0.6458\n",
            "Epoch 9/15\n",
            "8/8 [==============================] - 1s 129ms/step - loss: 0.8483 - accuracy: 0.6562\n",
            "Epoch 10/15\n",
            "8/8 [==============================] - 1s 130ms/step - loss: 0.7037 - accuracy: 0.7333\n",
            "Epoch 11/15\n",
            "8/8 [==============================] - 1s 131ms/step - loss: 0.5909 - accuracy: 0.7646\n",
            "Epoch 12/15\n",
            "8/8 [==============================] - 1s 128ms/step - loss: 0.6766 - accuracy: 0.7583\n",
            "Epoch 13/15\n",
            "8/8 [==============================] - 1s 127ms/step - loss: 0.6987 - accuracy: 0.6958\n",
            "Epoch 14/15\n",
            "8/8 [==============================] - 1s 130ms/step - loss: 0.5066 - accuracy: 0.8333\n",
            "Epoch 15/15\n",
            "8/8 [==============================] - 1s 127ms/step - loss: 0.4498 - accuracy: 0.8396\n"
          ],
          "name": "stdout"
        }
      ]
    },
    {
      "cell_type": "code",
      "metadata": {
        "id": "Zc0Kh23phzV0",
        "colab_type": "code",
        "colab": {
          "base_uri": "https://localhost:8080/",
          "height": 35
        },
        "outputId": "58fcaaa4-ce1d-4081-ba65-d12ee50cf901"
      },
      "source": [
        "test_datagen = ImageDataGenerator(rescale=1/255)\n",
        "\n",
        "test_generator = train_datagen.flow_from_directory(\n",
        "    directory = '/content/NEU-DET/validation/images/',\n",
        "    target_size = (224, 224),\n",
        "    batch_size = 60,\n",
        "    class_mode = 'categorical'\n",
        ")"
      ],
      "execution_count": 33,
      "outputs": [
        {
          "output_type": "stream",
          "text": [
            "Found 360 images belonging to 6 classes.\n"
          ],
          "name": "stdout"
        }
      ]
    },
    {
      "cell_type": "code",
      "metadata": {
        "id": "SmToLVEP1spD",
        "colab_type": "code",
        "colab": {}
      },
      "source": [
        ""
      ],
      "execution_count": null,
      "outputs": []
    }
  ]
}