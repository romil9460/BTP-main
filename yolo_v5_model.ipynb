{
  "nbformat": 4,
  "nbformat_minor": 0,
  "metadata": {
    "colab": {
      "name": "yolo-v5_model",
      "provenance": [],
      "authorship_tag": "ABX9TyNZgZ/KjQSFXDWmbc7dTOx4"
    },
    "kernelspec": {
      "name": "python3",
      "display_name": "Python 3"
    }
  },
  "cells": [
    {
      "cell_type": "markdown",
      "metadata": {
        "id": "7c4PL0G1HqEF",
        "colab_type": "text"
      },
      "source": [
        "Using the YOLO5 Model"
      ]
    },
    {
      "cell_type": "code",
      "metadata": {
        "id": "IhhNAZTHSnBU",
        "colab_type": "code",
        "colab": {}
      },
      "source": [
        "from google.colab import drive\n",
        "drive.mount('/gdrive')"
      ],
      "execution_count": null,
      "outputs": []
    },
    {
      "cell_type": "code",
      "metadata": {
        "id": "pqdfdvxESqZY",
        "colab_type": "code",
        "colab": {}
      },
      "source": [
        "import os\n",
        "import zipfile\n",
        "\n",
        "local_zip = '/gdrive/My Drive/NEU-DET_new.zip'\n",
        "zip_ref = zipfile.ZipFile(local_zip, 'r')\n",
        "zip_ref.extractall('./')\n",
        "zip_ref.close()"
      ],
      "execution_count": null,
      "outputs": []
    },
    {
      "cell_type": "code",
      "metadata": {
        "id": "bD2_X5H-pAEv",
        "colab_type": "code",
        "colab": {}
      },
      "source": [
        "import torch\n"
      ],
      "execution_count": 1,
      "outputs": []
    },
    {
      "cell_type": "code",
      "metadata": {
        "id": "TYluquRQRfI7",
        "colab_type": "code",
        "colab": {
          "base_uri": "https://localhost:8080/",
          "height": 35
        },
        "outputId": "0e9fc6b5-e259-4222-d786-91cc628d6533"
      },
      "source": [
        "import torch\n",
        "from IPython.display import Image  # for displaying images\n",
        "print('torch %s %s' % (torch.__version__, torch.cuda.get_device_properties(0) if torch.cuda.is_available() else 'CPU'))"
      ],
      "execution_count": 3,
      "outputs": [
        {
          "output_type": "stream",
          "text": [
            "torch 1.5.1+cu101 CPU\n"
          ],
          "name": "stdout"
        }
      ]
    },
    {
      "cell_type": "code",
      "metadata": {
        "id": "Jgxcai0MR0__",
        "colab_type": "code",
        "colab": {}
      },
      "source": [
        "#DATASET"
      ],
      "execution_count": 4,
      "outputs": []
    },
    {
      "cell_type": "code",
      "metadata": {
        "id": "SKVQFchrSFrO",
        "colab_type": "code",
        "colab": {}
      },
      "source": [
        "nc: 3\n",
        "depth_multiple: 0.33\n",
        "width_multiple: 0.50\n",
        "anchors:\n",
        "  - [10,13, 16,30, 33,23] \n",
        "  - [30,61, 62,45, 59,119]\n",
        "  - [116,90, 156,198, 373,326]\n",
        "backbone:\n",
        "  [[-1, 1, Focus, [64, 3]],\n",
        "   [-1, 1, Conv, [128, 3, 2]],\n",
        "   [-1, 3, Bottleneck, [128]],\n",
        "   [-1, 1, Conv, [256, 3, 2]],\n",
        "   [-1, 9, BottleneckCSP, [256]],\n",
        "   [-1, 1, Conv, [512, 3, 2]], \n",
        "   [-1, 9, BottleneckCSP, [512]],\n",
        "   [-1, 1, Conv, [1024, 3, 2]],\n",
        "   [-1, 1, SPP, [1024, [5, 9, 13]]],\n",
        "   [-1, 6, BottleneckCSP, [1024]],\n",
        "  ]\n",
        "head:\n",
        "  [[-1, 3, BottleneckCSP, [1024, False]],\n",
        "   [-1, 1, nn.Conv2d, [na * (nc + 5), 1, 1, 0]],\n",
        "   [-2, 1, nn.Upsample, [None, 2, \"nearest\"]],\n",
        "   [[-1, 6], 1, Concat, [1]],\n",
        "   [-1, 1, Conv, [512, 1, 1]],\n",
        "   [-1, 3, BottleneckCSP, [512, False]],\n",
        "   [-1, 1, nn.Conv2d, [na * (nc + 5), 1, 1, 0]],\n",
        "   [-2, 1, nn.Upsample, [None, 2, \"nearest\"]],\n",
        "   [[-1, 4], 1, Concat, [1]],\n",
        "   [-1, 1, Conv, [256, 1, 1]],\n",
        "   [-1, 3, BottleneckCSP, [256, False]],\n",
        "   [-1, 1, nn.Conv2d, [na * (nc + 5), 1, 1, 0]],\n",
        "[[], 1, Detect, [nc, anchors]],\n",
        "  ]"
      ],
      "execution_count": null,
      "outputs": []
    }
  ]
}